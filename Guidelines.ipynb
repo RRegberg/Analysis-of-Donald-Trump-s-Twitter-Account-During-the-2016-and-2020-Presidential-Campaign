{
 "cells": [
  {
   "cell_type": "markdown",
   "metadata": {},
   "source": [
    "Before you turn this problem in, make sure everything runs as expected. First, **restart the kernel** (in the menubar, select Kernel$\\rightarrow$Restart) and then **run all cells** (in the menubar, select Cell$\\rightarrow$Run All).\n",
    "\n",
    "Make sure you fill in any place that says `YOUR CODE HERE` or \"YOUR ANSWER HERE\", as well as your name and collaborators below:"
   ]
  },
  {
   "cell_type": "code",
   "execution_count": null,
   "metadata": {},
   "outputs": [],
   "source": [
    "NAME = \"\"\n",
    "COLLABORATORS = \"\""
   ]
  },
  {
   "cell_type": "markdown",
   "metadata": {},
   "source": [
    "---"
   ]
  },
  {
   "cell_type": "markdown",
   "metadata": {},
   "source": [
    "# Project Guidelines\n",
    "\n",
    "There are two components to the project:\n",
    "\n",
    "* Report (90%) - Written and submitted prior to final exam\n",
    "* Presentation (10%) - 10-minute / 6-slide summary presented during final exam period\n",
    "\n",
    "For the report, create a Jupyter Notebook analyzing the real-world data set you chose earlier in the term.\n",
    "\n",
    "For the presentation, summarize your report in about 5-7 slides, excluding title slide.\n",
    "\n",
    "The written analysis describing your results will likely be 6-8 paragraphs. Most of the work will be writing code to clean and analyze the data. Your code should show solid understanding of concepts from class such as data manipulation, plotting, and predictive modeling. Note that presentation counts - Text and code should be neatly integrated and plots should be clear, labeled, and appealing.\n",
    "\n",
    "Your document should have the following sections:\n",
    "\n",
    "## Introduction (20%, 1-2 paragraphs)\n",
    "\n",
    "* Which data set did you choose? Which variables are in the data?\n",
    "* To the extent it's relevant and known, how were data collected?\n",
    "* Is there any other context we need to understand the data?\n",
    "* Given the variables at hand, what relationships can this data help us analyze?\n",
    "* What questions/relationships will you focus on for your report?\n",
    "* What relationships do you expect to see among variables?\n",
    "\n",
    "## Exploratory Data Analysis (EDA) (40%, 3-4 paragraphs)\n",
    "\n",
    "* Plot and summarize single columns (histogram, box plot, descriptive statistics)\n",
    "* Plot and summarize relationships among multiple columns (scatter plots, correlation heatmaps, 2-d histograms)\n",
    "\n",
    "Note you will want to clean the data as necessary throughout this step. Discuss and justify any choices you make.\n",
    "\n",
    "## Supervised Learning (20%, 2-3 paragraphs)\n",
    "\n",
    "If possible, build a predictive model (e.g. linear model or K-nearest neighbors) for a relationship of interest.\n",
    "\n",
    "* Partition data into training set and test set\n",
    "* Fit model\\*\n",
    "* Interpret variable signs and significance plus model R-squared value (linear model)\\*\n",
    "* Predict on training data and compute error\\*\n",
    "* Predict on test data and compute error\\*\n",
    "* Repeat model fitting process (train/test cycle, starred steps) depending on fit. Adjust variables and/or model type as necessary.\n",
    "\n",
    "You can emphasize this area slightly more (less) if you have less (more) EDA.\n",
    "\n",
    "## Conclusions (10%, 1 paragraph)\n",
    "\n",
    "As a rule of thumb, there should be *no new content* in the conclusions section, only summary of the content above.\n",
    "\n",
    "* What questions/relationships did you focus on for your report?\n",
    "* What relationships did we end up seeing among variables? \n",
    "* Were the results expected, surprising, or somewhere in between? \n",
    "* Does your analysis suggest any future directions for research?\n"
   ]
  }
 ],
 "metadata": {
  "kernelspec": {
   "display_name": "Python 3",
   "language": "python",
   "name": "python3"
  },
  "language_info": {
   "codemirror_mode": {
    "name": "ipython",
    "version": 3
   },
   "file_extension": ".py",
   "mimetype": "text/x-python",
   "name": "python",
   "nbconvert_exporter": "python",
   "pygments_lexer": "ipython3",
   "version": "3.6.9"
  }
 },
 "nbformat": 4,
 "nbformat_minor": 4
}
